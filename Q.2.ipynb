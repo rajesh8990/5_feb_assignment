{
 "cells": [
  {
   "cell_type": "code",
   "execution_count": null,
   "id": "9caec552-ebc2-4f08-babd-5588e9b24f9c",
   "metadata": {},
   "outputs": [],
   "source": [
    "\"\"\"\n",
    "Q.2 Name the four pillars of OOPs.\n",
    "\"\"\"\n",
    "Ans.\n",
    "1.Encapsulation\n",
    "2.Abstraction\n",
    "3.Inheritance\n",
    "4.Polymorphism\n",
    "\n",
    "\n",
    "\n",
    "\n",
    "\n"
   ]
  }
 ],
 "metadata": {
  "kernelspec": {
   "display_name": "Python 3 (ipykernel)",
   "language": "python",
   "name": "python3"
  },
  "language_info": {
   "codemirror_mode": {
    "name": "ipython",
    "version": 3
   },
   "file_extension": ".py",
   "mimetype": "text/x-python",
   "name": "python",
   "nbconvert_exporter": "python",
   "pygments_lexer": "ipython3",
   "version": "3.10.8"
  }
 },
 "nbformat": 4,
 "nbformat_minor": 5
}
