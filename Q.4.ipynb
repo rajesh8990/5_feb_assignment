{
 "cells": [
  {
   "cell_type": "code",
   "execution_count": null,
   "id": "25f0058d-b3ce-4c60-98af-a9dff938af2a",
   "metadata": {},
   "outputs": [],
   "source": [
    "\"\"\"\n",
    "Q.4 Why self is used in OOPs?\n",
    "\n",
    "Ans.Within a class method, self is used to access and modify the instance variables\n",
    "    (attributes) of that particular object. It allows different objects of the same\n",
    "    class to have their own separate data.\n",
    "\"\"\"\n"
   ]
  }
 ],
 "metadata": {
  "kernelspec": {
   "display_name": "Python 3 (ipykernel)",
   "language": "python",
   "name": "python3"
  },
  "language_info": {
   "codemirror_mode": {
    "name": "ipython",
    "version": 3
   },
   "file_extension": ".py",
   "mimetype": "text/x-python",
   "name": "python",
   "nbconvert_exporter": "python",
   "pygments_lexer": "ipython3",
   "version": "3.10.8"
  }
 },
 "nbformat": 4,
 "nbformat_minor": 5
}
