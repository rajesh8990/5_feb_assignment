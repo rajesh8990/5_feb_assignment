{
 "cells": [
  {
   "cell_type": "code",
   "execution_count": 7,
   "id": "2e07a0eb-fe8d-48f1-bec6-eba981362379",
   "metadata": {},
   "outputs": [],
   "source": [
    "\"\"\"\n",
    "Q.1 Explain Class and Object with respect to Object-Oriented Programming. \n",
    "    Give a suitable example.\n",
    "\n",
    "Ans. a class is a blueprint or template for creating objects.\n",
    "    It defines the properties (attributes) and behaviors (methods) that \n",
    "    objects of that class will have.\n",
    "    \n",
    "\"\"\"\n",
    "# Example class and object\n",
    "class test:\n",
    "    def __init__(self,name,email_id,phone_number):\n",
    "        self.name=name #Attribute: make of the name\n",
    "        self.email_id=email_id\n",
    "        self.phone_number=phone_number\n",
    "        # Method to display information about the student_detail\n",
    "\n",
    "    def student_detail(self):\n",
    "        print(f\"{self.name}{self.email_id}{self.phone_number}\")\n"
   ]
  },
  {
   "cell_type": "code",
   "execution_count": 12,
   "id": "89a7ed78-2186-4c30-abc0-cbe47555162c",
   "metadata": {},
   "outputs": [],
   "source": [
    "# Create object\n",
    "detail=test(' Rajesh ',' pint456@gmail.com ',9936562312)"
   ]
  },
  {
   "cell_type": "code",
   "execution_count": 13,
   "id": "1a54e089-8a9f-4a16-9e17-0d2c49949031",
   "metadata": {},
   "outputs": [
    {
     "name": "stdout",
     "output_type": "stream",
     "text": [
      " Rajesh  pint456@gmail.com 9936562312\n"
     ]
    }
   ],
   "source": [
    "# call object\n",
    "detail.student_detail()"
   ]
  },
  {
   "cell_type": "code",
   "execution_count": 14,
   "id": "21eead09-da6d-4161-a501-0cb86f73b9b2",
   "metadata": {},
   "outputs": [
    {
     "data": {
      "text/plain": [
       "' Rajesh '"
      ]
     },
     "execution_count": 14,
     "metadata": {},
     "output_type": "execute_result"
    }
   ],
   "source": [
    "detail.name"
   ]
  },
  {
   "cell_type": "code",
   "execution_count": 15,
   "id": "11fbf1b9-d4eb-4021-9865-466dc72c7c52",
   "metadata": {},
   "outputs": [
    {
     "data": {
      "text/plain": [
       "9936562312"
      ]
     },
     "execution_count": 15,
     "metadata": {},
     "output_type": "execute_result"
    }
   ],
   "source": [
    "detail.phone_number"
   ]
  },
  {
   "cell_type": "code",
   "execution_count": null,
   "id": "96097e82-d240-410f-b0ef-07c12020ac17",
   "metadata": {},
   "outputs": [],
   "source": []
  }
 ],
 "metadata": {
  "kernelspec": {
   "display_name": "Python 3 (ipykernel)",
   "language": "python",
   "name": "python3"
  },
  "language_info": {
   "codemirror_mode": {
    "name": "ipython",
    "version": 3
   },
   "file_extension": ".py",
   "mimetype": "text/x-python",
   "name": "python",
   "nbconvert_exporter": "python",
   "pygments_lexer": "ipython3",
   "version": "3.10.8"
  }
 },
 "nbformat": 4,
 "nbformat_minor": 5
}
