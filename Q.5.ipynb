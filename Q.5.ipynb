{
 "cells": [
  {
   "cell_type": "code",
   "execution_count": null,
   "id": "6554682a-96bc-401d-87aa-b26334a83c4d",
   "metadata": {},
   "outputs": [],
   "source": [
    "\"\"\"\n",
    "Q.5  What is inheritance? Give an example for each type of inheritance.\n",
    "\n",
    "Ans. Inheritance in object-oriented programming is the concept where a new class,\n",
    "     known as a derived or child class, is created from an existing class, called a\n",
    "     base or parent class. This allows the derived class to inherit properties and\n",
    "     behaviors (methods and attributes) from the parent class.\n",
    "     \n",
    "     There are several types of inheritance:\n",
    "     1.Single Inheritance\n",
    "     2.Multiple Inheritance\n",
    "     3.Multilevel Inheritance\n",
    "     4.Hybrid Inheritance\n",
    "     \n",
    "\"\"\"\n"
   ]
  },
  {
   "cell_type": "code",
   "execution_count": null,
   "id": "686c9f39-a27f-43bf-922a-62c2caf311ec",
   "metadata": {},
   "outputs": [],
   "source": [
    "\"\"\" \n",
    "\n",
    "1.Single Inheritance:\n",
    "  In single inheritance, a class inherits properties and behavior from only one parent class.\n",
    "\"\"\"\n",
    "# Example single Inheritance\n",
    "# parent class\n",
    "class base1():\n",
    "    def test1(self,name):\n",
    "        self.name=name\n",
    "        print(self.name)\n",
    "# child class\n",
    "class base2(base1):\n",
    "    def test2(self,fname):\n",
    "        self.fname=fname\n",
    "        print(self.fname)"
   ]
  },
  {
   "cell_type": "code",
   "execution_count": 14,
   "id": "40a02eaa-2490-4b76-bd18-19c87931c0b6",
   "metadata": {},
   "outputs": [],
   "source": [
    "# Create object\n",
    "a1=base2()\n"
   ]
  },
  {
   "cell_type": "code",
   "execution_count": 16,
   "id": "c1af7a92-df5d-453b-8f15-23ecd8a7e2cc",
   "metadata": {},
   "outputs": [
    {
     "name": "stdout",
     "output_type": "stream",
     "text": [
      "kamla\n"
     ]
    }
   ],
   "source": [
    "a1.test2('kamla')"
   ]
  },
  {
   "cell_type": "code",
   "execution_count": 5,
   "id": "178a79c8-42f7-4a37-b622-857e7b0ed98f",
   "metadata": {},
   "outputs": [],
   "source": [
    "\"\"\"\n",
    "2.Multiple Inheritance:\n",
    "\n",
    "Multiple inheritance allows a class to inherit properties and behavior from more than\n",
    "one parent class.\n",
    "\n",
    "\"\"\"\n",
    "\n",
    "\n",
    "# Example maltiple Inheritance\n",
    "# Parent class\n",
    "class base1():\n",
    "    def test1(self,name):\n",
    "        self.name=name\n",
    "        print(self.name)\n",
    "class base2():\n",
    "    def test2(self,fname):\n",
    "        self.fname=fname\n",
    "        print(self.fname)\n",
    "# Child class\n",
    "class base3(base1,base2):\n",
    "    pass\n",
    "    "
   ]
  },
  {
   "cell_type": "code",
   "execution_count": 6,
   "id": "a0fcdee8-8a47-421c-9eff-005871a35254",
   "metadata": {},
   "outputs": [],
   "source": [
    "# Creat object\n",
    "show=base3()"
   ]
  },
  {
   "cell_type": "code",
   "execution_count": 11,
   "id": "ffdea1a1-5d9f-4a2a-97a8-c04d34aab26f",
   "metadata": {},
   "outputs": [
    {
     "name": "stdout",
     "output_type": "stream",
     "text": [
      "rakesh kumar\n"
     ]
    }
   ],
   "source": [
    "show.test2('rakesh kumar')"
   ]
  },
  {
   "cell_type": "code",
   "execution_count": 13,
   "id": "a0e61c3a-63b0-4e84-98f4-0d4dceaf8952",
   "metadata": {},
   "outputs": [
    {
     "name": "stdout",
     "output_type": "stream",
     "text": [
      "sudhu\n"
     ]
    }
   ],
   "source": [
    "show.test1('sudhu')"
   ]
  },
  {
   "cell_type": "code",
   "execution_count": 39,
   "id": "98f490ad-53c4-4b93-aa8a-4ca58d1a8db9",
   "metadata": {},
   "outputs": [],
   "source": [
    "\"\"\"\n",
    "3.Multilevel Inheritance:\n",
    "\n",
    "In multilevel inheritance, a class can inherit properties and behavior from a parent class,\n",
    "and then another class can inherit from this Parent class.\n",
    "\n",
    "\"\"\"\n",
    "# Example Multilevel Inheritance\n",
    "class base1:\n",
    "    def test1(self,name):\n",
    "        self.name=name\n",
    "        print(self.name)\n",
    "class base2(base1):\n",
    "    def test2(self,phone_number):\n",
    "        self.phone_number=phone_number\n",
    "        print(self.phone_number)\n",
    "\n",
    "class base3(base2):\n",
    "    def test3(self,mname):\n",
    "        \n",
    "        self.mname=mname\n",
    "        print(self.mname)\n",
    "    "
   ]
  },
  {
   "cell_type": "code",
   "execution_count": 40,
   "id": "f2c7bba8-b2f7-4ea9-b0df-ebeac03c3403",
   "metadata": {},
   "outputs": [],
   "source": [
    "# create object\n",
    "a2=base3()"
   ]
  },
  {
   "cell_type": "code",
   "execution_count": 41,
   "id": "0db1f42e-c7f0-4e36-b910-7aaf52fd2b1e",
   "metadata": {},
   "outputs": [
    {
     "name": "stdout",
     "output_type": "stream",
     "text": [
      "bhanu\n"
     ]
    }
   ],
   "source": [
    "a2.test3('bhanu')"
   ]
  },
  {
   "cell_type": "code",
   "execution_count": 42,
   "id": "7ba2eb1f-2550-4c4f-822a-ac076087aefc",
   "metadata": {},
   "outputs": [
    {
     "name": "stdout",
     "output_type": "stream",
     "text": [
      "rajesh\n"
     ]
    }
   ],
   "source": [
    "a2.test1('rajesh')"
   ]
  },
  {
   "cell_type": "code",
   "execution_count": 43,
   "id": "4cf3fb99-d940-4fbe-aaaf-8999c4aa9dc3",
   "metadata": {},
   "outputs": [
    {
     "name": "stdout",
     "output_type": "stream",
     "text": [
      "123654\n"
     ]
    }
   ],
   "source": [
    "a2.test2(123654)"
   ]
  },
  {
   "cell_type": "code",
   "execution_count": 20,
   "id": "d9624bd3-9eca-405c-9716-41424e87ad94",
   "metadata": {},
   "outputs": [],
   "source": [
    "\"\"\"\n",
    "4.Hybrid Inheritance\n",
    "\n",
    "Hybrid inheritance is a combination of multiple types of inheritance, primarily involving\n",
    "the mix of multiple and multilevel inheritance.\n",
    "\"\"\"\n",
    "# Example Hybrid Inheritence\n",
    "class base1:\n",
    "    def test1(self):\n",
    "        print(\"test 1 class\")\n",
    "class base2(base1):\n",
    "    def test2(self):\n",
    "        print(\"test 2 class\")\n",
    "\n",
    "class base3(base1):\n",
    "    def test3(self):\n",
    "        print(\"test 3 class\")\n",
    "        \n",
    "        \n",
    "        \n",
    "class base4(base2,base3):\n",
    "    def test4(self):\n",
    "        print(\"test 4 class\")"
   ]
  },
  {
   "cell_type": "code",
   "execution_count": 21,
   "id": "afdb04dd-9aa3-44f2-bb1f-61d185d63c57",
   "metadata": {},
   "outputs": [],
   "source": [
    "# Create object\n",
    "a4=base4()"
   ]
  },
  {
   "cell_type": "code",
   "execution_count": 28,
   "id": "c2cddafc-57f2-4a34-97a6-1e4873574450",
   "metadata": {},
   "outputs": [
    {
     "name": "stdout",
     "output_type": "stream",
     "text": [
      "test 4 class\n"
     ]
    }
   ],
   "source": [
    "a4.test4()"
   ]
  },
  {
   "cell_type": "code",
   "execution_count": 29,
   "id": "aa9a77b1-47ea-42fd-bfa5-1b2090a7fa68",
   "metadata": {},
   "outputs": [
    {
     "name": "stdout",
     "output_type": "stream",
     "text": [
      "test 3 class\n"
     ]
    }
   ],
   "source": [
    "a4.test3()"
   ]
  },
  {
   "cell_type": "code",
   "execution_count": null,
   "id": "73bf299a-c2f0-4482-9db1-46d0d07133a0",
   "metadata": {},
   "outputs": [],
   "source": []
  }
 ],
 "metadata": {
  "kernelspec": {
   "display_name": "Python 3 (ipykernel)",
   "language": "python",
   "name": "python3"
  },
  "language_info": {
   "codemirror_mode": {
    "name": "ipython",
    "version": 3
   },
   "file_extension": ".py",
   "mimetype": "text/x-python",
   "name": "python",
   "nbconvert_exporter": "python",
   "pygments_lexer": "ipython3",
   "version": "3.10.8"
  }
 },
 "nbformat": 4,
 "nbformat_minor": 5
}
