{
 "cells": [
  {
   "cell_type": "code",
   "execution_count": 2,
   "id": "7ee1d85e-421b-4447-87e9-ad1acd4ddcc8",
   "metadata": {},
   "outputs": [],
   "source": [
    "\"\"\"\n",
    "Q.3 Explain why the __init__() function is used. Give a suitable example.\n",
    "\n",
    "Ans. The __init__() function in Python is a special method used within a class to initialize\n",
    "    the object's attributes or perform any necessary setup when an object of that class is \n",
    "    created.\n",
    "    \n",
    "\"\"\"\n",
    "# Example class and object\n",
    "class test:\n",
    "    def __init__(self,name,email_id,phone_number):\n",
    "        self.name=name #Attribute: make of the name\n",
    "        self.email_id=email_id\n",
    "        self.phone_number=phone_number\n",
    "        # Method to display information about the student_detail\n",
    "\n",
    "    def student_detail(self):\n",
    "        print(f\"{self.name}{self.email_id}{self.phone_number}\")\n"
   ]
  },
  {
   "cell_type": "code",
   "execution_count": 3,
   "id": "69ce976f-0142-40f4-8da4-b537395e5586",
   "metadata": {},
   "outputs": [],
   "source": [
    "# Create object\n",
    "detail=test(' Rajesh ',' pint456@gmail.com ',9936562312)"
   ]
  },
  {
   "cell_type": "code",
   "execution_count": 5,
   "id": "71e7e2c9-0bee-42e7-8cab-abc1694dee69",
   "metadata": {},
   "outputs": [
    {
     "data": {
      "text/plain": [
       "' Rajesh '"
      ]
     },
     "execution_count": 5,
     "metadata": {},
     "output_type": "execute_result"
    }
   ],
   "source": [
    "detail.name"
   ]
  },
  {
   "cell_type": "code",
   "execution_count": null,
   "id": "cac74f26-8df3-4420-a033-c515228b78ba",
   "metadata": {},
   "outputs": [],
   "source": []
  }
 ],
 "metadata": {
  "kernelspec": {
   "display_name": "Python 3 (ipykernel)",
   "language": "python",
   "name": "python3"
  },
  "language_info": {
   "codemirror_mode": {
    "name": "ipython",
    "version": 3
   },
   "file_extension": ".py",
   "mimetype": "text/x-python",
   "name": "python",
   "nbconvert_exporter": "python",
   "pygments_lexer": "ipython3",
   "version": "3.10.8"
  }
 },
 "nbformat": 4,
 "nbformat_minor": 5
}
